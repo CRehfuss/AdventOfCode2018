{
  "cells": [
    {
      "metadata": {
        "trusted": true
      },
      "cell_type": "code",
      "source": "import urllib.request\nimport re\nfrom datetime import datetime, date, time\nfrom collections import defaultdict",
      "execution_count": 17,
      "outputs": []
    },
    {
      "metadata": {
        "trusted": true
      },
      "cell_type": "code",
      "source": "updatedEntries =[]\nfor entry in urllib.request.urlopen(\"https://raw.githubusercontent.com/CRehfuss/AdventOfCode2018/master/Day4/input.txt\"):\n    entries = entry.decode('ISO-8859-1')\n    fTime = entries[1:entries.find(']')]\n    message = entries[entries.find(']')+2:]\n    newdate = datetime.strptime(fTime, \"%Y-%m-%d %H:%M\")\n    updatedEntries.append([newdate, message.rstrip()])",
      "execution_count": 8,
      "outputs": []
    },
    {
      "metadata": {
        "trusted": true
      },
      "cell_type": "code",
      "source": "\ndef mergeSort(arr):\n    if len(arr) == 1:\n        return arr\n    half = len(arr)//2\n    \n    left = arr[:half]\n    right = arr[half:]\n\n    left = mergeSort(left)\n    right = mergeSort(right)\n\n    return merge(left, right)\n\ndef merge(a, b):\n    c = []\n    while( a and  b):\n        if a[0][0] > b[0][0]:\n            c.append(b[0])\n            b.pop(0)\n        else:\n            c.append(a[0])\n            a.pop(0)\n    while( a):\n        c.append(a[0])\n        a.pop(0)\n    while b:\n        c.append(b[0])\n        b.pop(0)\n    return c",
      "execution_count": 9,
      "outputs": []
    },
    {
      "metadata": {
        "trusted": true
      },
      "cell_type": "code",
      "source": "sortedA = mergeSort(updatedEntries)",
      "execution_count": 27,
      "outputs": []
    },
    {
      "metadata": {
        "trusted": true
      },
      "cell_type": "code",
      "source": "count = defaultdict(int)\ntotalcount = defaultdict(int)\nwhile sortedA:\n    m = sortedA.pop(0)\n\n    if 'Guard' in m[1]:\n        guardNumber = m[1][m[1].find('#')+1:m[1].find('b')-1]\n    \n    if 'asleep' in m[1]:\n        timeAsleep = m[0].minute\n    \n    if 'wakes' in m[1]:\n        for i in range(timeAsleep, m[0].minute):\n            count[(guardNumber, i)] += 1\n            totalcount[guardNumber] += 1\n",
      "execution_count": 28,
      "outputs": []
    },
    {
      "metadata": {
        "trusted": true,
        "scrolled": true
      },
      "cell_type": "code",
      "source": "mostTimeAsleep = -1\nsleepiestGaurd = -1\nfor k,v in totalcount.items():\n    if mostTimeAsleep < v:\n        sleepiestGaurd = k\n        mostTimeAsleep = v\n\nprint (sleepiestGaurd)\nbestComboP1 = numTimesP1 = -1\nbestComboP2 = numTimesP2 = -1\n\nfor k,v in count.items():\n    if k[0] == sleepiestGaurd and (bestComboP1 == -1 or numTimes < v):\n        bestComboP1 = k\n        numTimesP1 = v\n\nprint (bestComboP1)\nprint (int(bestComboP1[0])*int(bestComboP1[1]))\n\nfor k,v in count.items():\n    if bestComboP2 == -1 or numTimesP2 < v:\n        bestComboP2 = k\n        numTimesP2 = v\n\nprint (bestComboP2)\nprint (int(bestComboP2[0])*int(bestComboP2[1]))",
      "execution_count": 37,
      "outputs": [
        {
          "output_type": "stream",
          "text": "727\n('727', 24)\n17448\n('1657', 32)\n53024\n",
          "name": "stdout"
        }
      ]
    },
    {
      "metadata": {
        "trusted": true
      },
      "cell_type": "code",
      "source": "",
      "execution_count": null,
      "outputs": []
    }
  ],
  "metadata": {
    "kernelspec": {
      "name": "python36",
      "display_name": "Python 3.6",
      "language": "python"
    },
    "language_info": {
      "mimetype": "text/x-python",
      "nbconvert_exporter": "python",
      "name": "python",
      "pygments_lexer": "ipython3",
      "version": "3.6.6",
      "file_extension": ".py",
      "codemirror_mode": {
        "version": 3,
        "name": "ipython"
      }
    }
  },
  "nbformat": 4,
  "nbformat_minor": 2
}