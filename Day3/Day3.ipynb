{
 "cells": [
  {
   "cell_type": "markdown",
   "metadata": {},
   "source": [
    "# AoC Day 3"
   ]
  },
  {
   "cell_type": "markdown",
   "metadata": {},
   "source": [
    "#### Part 1"
   ]
  },
  {
   "cell_type": "code",
   "execution_count": 7,
   "metadata": {},
   "outputs": [],
   "source": [
    "import urllib.request\n",
    "import re\n",
    "import numpy\n",
    "i = 1111\n",
    "a = numpy.zeros(shape=(i,i))\n"
   ]
  },
  {
   "cell_type": "code",
   "execution_count": 121,
   "metadata": {},
   "outputs": [
    {
     "name": "stdout",
     "output_type": "stream",
     "text": [
      "120408\n"
     ]
    }
   ],
   "source": [
    "overlapSquares = 0\n",
    "\n",
    "for claim in urllib.request.urlopen(\"https://raw.githubusercontent.com/CRehfuss/AdventOfCode2018/master/Day3/input.txt\"):\n",
    "    overlap = false\n",
    "    number, at, index, size = (claim.decode('ISO-8859-1').split())\n",
    "    row = int(index[:index.find(',')])\n",
    "    col = int(index[index.find(',')+1:-1])\n",
    "    wide = int(size[:size.find('x')])\n",
    "    tall = int(size[size.find('x')+1:])\n",
    "    i = row\n",
    "    while i < row + wide:\n",
    "        j = col\n",
    "        while j < col + tall:\n",
    "            if (a[j][i]) == 1:\n",
    "                overlapSquares += 1\n",
    "                a[j][i] = 2\n",
    "            if (a[j][i]) == 0:\n",
    "                a[j][i] = 1\n",
    "            j+=1\n",
    "        i+=1\n",
    "print(overlapSquares)"
   ]
  },
  {
   "cell_type": "markdown",
   "metadata": {},
   "source": [
    "#### Part 2"
   ]
  },
  {
   "cell_type": "code",
   "execution_count": 19,
   "metadata": {},
   "outputs": [],
   "source": [
    "overlap = [0] * 1384\n",
    "i = 1111\n",
    "a = numpy.zeros(shape=(i,i))\n",
    "for claim in urllib.request.urlopen(\"https://raw.githubusercontent.com/CRehfuss/AdventOfCode2018/master/Day3/input.txt\"):\n",
    "    number, at, index, size = (claim.decode('ISO-8859-1').split())\n",
    "    row = int(index[:index.find(',')])\n",
    "    col = int(index[index.find(',')+1:-1])\n",
    "    wide = int(size[:size.find('x')])\n",
    "    tall = int(size[size.find('x')+1:])\n",
    "    i = row\n",
    "    while i < row + wide:\n",
    "        j = col\n",
    "        while j < col + tall:\n",
    "            if (a[j][i]) == 0:\n",
    "                a[j][i] = int(number[1:])\n",
    "            else:\n",
    "                overlap[int(number[1:])] = int(1)\n",
    "                overlap[int(a[j][i])] = int(1)\n",
    "            j+=1\n",
    "        i+=1\n",
    "    "
   ]
  },
  {
   "cell_type": "code",
   "execution_count": 20,
   "metadata": {},
   "outputs": [
    {
     "name": "stdout",
     "output_type": "stream",
     "text": [
      "1275\n"
     ]
    }
   ],
   "source": [
    "overlap = overlap[1:]\n",
    "if 0 in overlap:\n",
    "    print(overlap.index(0)+1) #We'll have an off by one"
   ]
  }
 ],
 "metadata": {
  "kernelspec": {
   "display_name": "Python 3",
   "language": "python",
   "name": "python3"
  },
  "language_info": {
   "codemirror_mode": {
    "name": "ipython",
    "version": 3
   },
   "file_extension": ".py",
   "mimetype": "text/x-python",
   "name": "python",
   "nbconvert_exporter": "python",
   "pygments_lexer": "ipython3",
   "version": "3.6.6"
  }
 },
 "nbformat": 4,
 "nbformat_minor": 2
}
