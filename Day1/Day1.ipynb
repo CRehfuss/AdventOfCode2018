{
  "cells": [
    {
      "metadata": {},
      "cell_type": "markdown",
      "source": "# Advent of Code 2018\nClaire Rehfuss\n\nDay 1 \n\nTo see more play with this: https://adventofcode.com/\n\nThis is my first run through at this so I'm coding what comes to mind quickest, it is not optimized. I plan to go back and optimize it later\n"
    },
    {
      "metadata": {},
      "cell_type": "markdown",
      "source": "#### Part 1"
    },
    {
      "metadata": {
        "trusted": true
      },
      "cell_type": "code",
      "source": "import urllib.request\nimport re\n\nfreq = 0;\nfor value in urllib.request.urlopen(\"https://raw.githubusercontent.com/CRehfuss/AdventOfCode2018/master/Day1/input.txt\"):\n    value = value.decode('ISO-8859-1').strip()\n    freq += int(value)\nprint(freq)\n\n",
      "execution_count": 9,
      "outputs": [
        {
          "output_type": "stream",
          "text": "427\n",
          "name": "stdout"
        }
      ]
    },
    {
      "metadata": {
        "trusted": true
      },
      "cell_type": "markdown",
      "source": "#### Part 2\n"
    },
    {
      "metadata": {
        "trusted": true
      },
      "cell_type": "code",
      "source": "count = {}\nfreq = 0;\nrepeated = 0\nwhile repeated is 0:\n    for value in urllib.request.urlopen(\"https://raw.githubusercontent.com/CRehfuss/AdventOfCode2018/master/Day1/input.txt\"):\n        value = int(value.decode('ISO-8859-1').strip())\n        freq += value\n        if freq not in count:\n            count[freq] = 1\n        else:\n            count[freq] += 1\n            print(freq)\n            repeated = 1\n            break\n",
      "execution_count": null,
      "outputs": []
    }
  ],
  "metadata": {
    "kernelspec": {
      "name": "python3",
      "display_name": "Python 3",
      "language": "python"
    },
    "language_info": {
      "mimetype": "text/x-python",
      "nbconvert_exporter": "python",
      "name": "python",
      "pygments_lexer": "ipython3",
      "version": "3.6.6",
      "file_extension": ".py",
      "codemirror_mode": {
        "version": 3,
        "name": "ipython"
      }
    }
  },
  "nbformat": 4,
  "nbformat_minor": 2
}