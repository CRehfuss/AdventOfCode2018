{
  "cells": [
    {
      "metadata": {
        "trusted": true
      },
      "cell_type": "code",
      "source": "import urllib.request\nimport re\nfrom collections import defaultdict",
      "execution_count": 75,
      "outputs": []
    },
    {
      "metadata": {
        "trusted": true,
        "scrolled": true
      },
      "cell_type": "code",
      "source": "charStack = []\n\nfor a in alpha:\n    for entry in urllib.request.urlopen(\"https://raw.githubusercontent.com/CRehfuss/AdventOfCode2018/master/Day5/input.txt\"):\n        for char in entry.decode('ISO-8859-1').strip():\n            if not charStack: #If the stack is empty, append\n                charStack.append(char)\n            else: #Check the top of the stack, if it's a opposite match then pop it and don't append. \n                topChar = charStack.pop()\n                if (topChar == char) or (topChar.lower() != char.lower()):\n                    charStack.append(topChar)\n                    charStack.append(char)\nprint (len(charStack))",
      "execution_count": 69,
      "outputs": [
        {
          "output_type": "stream",
          "text": "11246\n",
          "name": "stdout"
        }
      ]
    },
    {
      "metadata": {
        "trusted": true
      },
      "cell_type": "code",
      "source": "alpha = \"abcdefghijklmnopqrstuvwxyz\"\nalphaDict = defaultdict(int)\nfor a in alpha:\n    charStack = []\n    for entry in urllib.request.urlopen(\"https://raw.githubusercontent.com/CRehfuss/AdventOfCode2018/master/Day5/input.txt\"):\n        for char in entry.decode('ISO-8859-1').strip():\n            if char.lower() != a:\n                if not charStack: #If the stack is empty, append\n                    charStack.append(char)\n                else: #Check the top of the stack, if it's a opposite match then pop it and don't append. \n                    topChar = charStack.pop()\n                    if (topChar == char) or (topChar.lower() != char.lower()):\n                        charStack.append(topChar)\n                        charStack.append(char)\n        alphaDict[a] = len(charStack)\n",
      "execution_count": 76,
      "outputs": []
    },
    {
      "metadata": {
        "trusted": true
      },
      "cell_type": "code",
      "source": "shortestUnit = 'a' \nshortestPoly = -1\n\nfor k,v in alphaDict.items():\n    if alphaDict[shortestUnit] >= v:\n        shortestUnit = k\n        shortestPoly = v\nprint(shortestUnit, shortestPoly)",
      "execution_count": 85,
      "outputs": [
        {
          "output_type": "stream",
          "text": "t 5492\n",
          "name": "stdout"
        }
      ]
    },
    {
      "metadata": {
        "trusted": true
      },
      "cell_type": "code",
      "source": "",
      "execution_count": null,
      "outputs": []
    }
  ],
  "metadata": {
    "kernelspec": {
      "name": "python36",
      "display_name": "Python 3.6",
      "language": "python"
    },
    "language_info": {
      "mimetype": "text/x-python",
      "nbconvert_exporter": "python",
      "name": "python",
      "pygments_lexer": "ipython3",
      "version": "3.6.6",
      "file_extension": ".py",
      "codemirror_mode": {
        "version": 3,
        "name": "ipython"
      }
    }
  },
  "nbformat": 4,
  "nbformat_minor": 2
}