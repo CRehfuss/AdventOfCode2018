{
 "cells": [
  {
   "cell_type": "markdown",
   "metadata": {},
   "source": [
    "# AOC Day 2"
   ]
  },
  {
   "cell_type": "markdown",
   "metadata": {},
   "source": [
    "#### Part 1"
   ]
  },
  {
   "cell_type": "code",
   "execution_count": 1,
   "metadata": {},
   "outputs": [
    {
     "name": "stdout",
     "output_type": "stream",
     "text": [
      "246 35 8610\n"
     ]
    }
   ],
   "source": [
    "import urllib.request\n",
    "import re\n",
    "\n",
    "count2 = 0\n",
    "count3 = 0\n",
    "for boxID in urllib.request.urlopen(\"https://raw.githubusercontent.com/CRehfuss/AdventOfCode2018/master/Day2/input.txt\"):\n",
    "    count2Already = 0\n",
    "    count3Already = 0\n",
    "    boxID = boxID.decode('ISO-8859-1').strip()\n",
    "    d = dict.fromkeys(boxID, 0)\n",
    "    for c in boxID:\n",
    "        d[c] +=1\n",
    "    for key in d:\n",
    "        if count2Already is 0 and d[key] == 2:\n",
    "            count2Already = 1\n",
    "        if count3Already is 0 and d[key] == 3:\n",
    "            count3Already = 1\n",
    "    count2 += count2Already\n",
    "    count3 += count3Already\n",
    "\n",
    "print(count2, count3, count2*count3)"
   ]
  },
  {
   "cell_type": "markdown",
   "metadata": {},
   "source": [
    "#### Part 2\n",
    "This is tricky because they have to be in the same order! I would use set, but that doesn't keep order"
   ]
  },
  {
   "cell_type": "code",
   "execution_count": 15,
   "metadata": {
    "scrolled": true
   },
   "outputs": [],
   "source": [
    "count = 0\n",
    "IDs = []\n",
    "for boxID in urllib.request.urlopen(\"https://raw.githubusercontent.com/CRehfuss/AdventOfCode2018/master/Day2/input.txt\"):\n",
    "    differences = 0\n",
    "    IDs.append(boxID.decode('ISO-8859-1').strip())"
   ]
  },
  {
   "cell_type": "code",
   "execution_count": 22,
   "metadata": {},
   "outputs": [
    {
     "name": "stdout",
     "output_type": "stream",
     "text": [
      "iosnxmfkpabcjpdywvrtaqhluy iosnxmfkpabcjpdywvrtawhluy iosnxmfkpabcjpdywvrtahluy\n"
     ]
    }
   ],
   "source": [
    "i = 0\n",
    "differentIndex = -1\n",
    "# Loops through boxIDs\n",
    "while i < len(IDs):\n",
    "    j = i+1\n",
    "    #looping through boxIDs\n",
    "    while j <len(IDs):\n",
    "        differences = 0\n",
    "        for k in range(len(IDs[i])): #loop through characters\n",
    "            if IDs[i][k] != IDs[j][k]:\n",
    "                differences += 1\n",
    "                differentIndex = k\n",
    "        if differences is 1:\n",
    "            print (IDs[i], IDs[j], IDs[i][:differentIndex]+IDs[i][differentIndex+1:])\n",
    "            break\n",
    "        j+= 1\n",
    "    i +=1\n"
   ]
  },
  {
   "cell_type": "code",
   "execution_count": null,
   "metadata": {},
   "outputs": [],
   "source": []
  }
 ],
 "metadata": {
  "kernelspec": {
   "display_name": "Python 3",
   "language": "python",
   "name": "python3"
  },
  "language_info": {
   "codemirror_mode": {
    "name": "ipython",
    "version": 3
   },
   "file_extension": ".py",
   "mimetype": "text/x-python",
   "name": "python",
   "nbconvert_exporter": "python",
   "pygments_lexer": "ipython3",
   "version": "3.6.6"
  }
 },
 "nbformat": 4,
 "nbformat_minor": 2
}
